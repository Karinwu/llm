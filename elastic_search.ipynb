{
 "cells": [
  {
   "cell_type": "code",
   "execution_count": 1,
   "id": "53d04042-a275-44c1-a625-637861f5151a",
   "metadata": {},
   "outputs": [],
   "source": [
    "import os\n",
    "\n",
    "from elasticsearch import Elasticsearch\n",
    "import json\n",
    "from openai import OpenAI\n",
    "from tqdm.auto import tqdm"
   ]
  },
  {
   "cell_type": "code",
   "execution_count": 2,
   "id": "1dc57ab8-18de-4296-af1f-ae1c74887223",
   "metadata": {},
   "outputs": [
    {
     "data": {
      "text/plain": [
       "ObjectApiResponse({'name': '2c4e9162811c', 'cluster_name': 'docker-cluster', 'cluster_uuid': 'MpbbeFB4RVKexejDUgyM1w', 'version': {'number': '8.4.3', 'build_flavor': 'default', 'build_type': 'docker', 'build_hash': '42f05b9372a9a4a470db3b52817899b99a76ee73', 'build_date': '2022-10-04T07:17:24.662462378Z', 'build_snapshot': False, 'lucene_version': '9.3.0', 'minimum_wire_compatibility_version': '7.17.0', 'minimum_index_compatibility_version': '7.0.0'}, 'tagline': 'You Know, for Search'})"
      ]
     },
     "execution_count": 2,
     "metadata": {},
     "output_type": "execute_result"
    }
   ],
   "source": [
    "es_client = Elasticsearch(\"http://localhost:9200\")\n",
    "es_client.info()"
   ]
  },
  {
   "cell_type": "code",
   "execution_count": 6,
   "id": "dbdcb917-6a9c-4d1d-b5c1-155a242d7386",
   "metadata": {},
   "outputs": [],
   "source": [
    "INDEX_NAME = \"permit-questions\"\n",
    "PERMIT_TYPE = \"permit_type\""
   ]
  },
  {
   "cell_type": "code",
   "execution_count": 7,
   "id": "364da0b7-6297-4c55-9108-5214d14be68b",
   "metadata": {},
   "outputs": [],
   "source": [
    "with open('permit_data.json', 'rt') as f_in:\n",
    "    docs_raw = json.load(f_in)"
   ]
  },
  {
   "cell_type": "code",
   "execution_count": 8,
   "id": "b90f4306-6dff-4109-a79d-14a2fd6e8cea",
   "metadata": {},
   "outputs": [
    {
     "data": {
      "text/plain": [
       "[{'permit_type': 'solar-pv-installation',\n",
       "  'documents': [{'text': 'Yes, most jurisdictions require a permit to install PV systems to ensure safety and compliance.',\n",
       "    'type': 'Permit Requirements',\n",
       "    'question': 'Do I need a permit to install PV?'},\n",
       "   {'text': 'You typically need an electrical and building permit for PV installations. Check with your local building authority.',\n",
       "    'type': 'Permit Requirements',\n",
       "    'question': 'Which permit should I get if I want to install PV?'},\n",
       "   {'text': 'Some areas allow DIY installations, but most require a licensed electrician for safety compliance.',\n",
       "    'type': 'Permit Requirements',\n",
       "    'question': 'Can I install PV myself, or do I need a licensed contractor?'},\n",
       "   {'text': 'Yes, either you or your installer will need to obtain a permit before installation.',\n",
       "    'type': 'Permit Requirements',\n",
       "    'question': 'If I hire someone to install PV, do I need a permit?'},\n",
       "   {'text': 'Some HOAs have additional requirements, but state and local regulations usually take precedence.',\n",
       "    'type': 'Permit Requirements',\n",
       "    'question': 'Does my HOA require a separate permit for solar installation?'},\n",
       "   {'text': 'Yes, ground-mounted PV systems may require additional zoning and land use permits.',\n",
       "    'type': 'Permit Requirements',\n",
       "    'question': 'Is there a different permit for rooftop PV versus ground-mounted PV?'},\n",
       "   {'text': 'It depends on the lease agreement and local regulations. Landlord approval is typically required.',\n",
       "    'type': 'Permit Requirements',\n",
       "    'question': 'Can I install solar panels on a rental property?'},\n",
       "   {'text': 'The permitting process can take a few days to several weeks, depending on the jurisdiction.',\n",
       "    'type': 'Permit Requirements',\n",
       "    'question': 'How long does it take to get a permit for PV installation?'},\n",
       "   {'text': 'You may face fines, removal orders, or difficulties connecting to the grid.',\n",
       "    'type': 'Permit Requirements',\n",
       "    'question': 'What happens if I install PV without a permit?'},\n",
       "   {'text': 'Yes, most areas require an inspection to verify compliance with safety codes.',\n",
       "    'type': 'Permit Requirements',\n",
       "    'question': 'Do I need an inspection after getting a PV permit?'},\n",
       "   {'text': 'Permit requirements vary by jurisdiction. Check with your local authority.',\n",
       "    'type': 'Permit Requirements',\n",
       "    'question': 'Do I need to upgrade my electrical panel to get a PV permit?'},\n",
       "   {'text': 'Permit requirements vary by jurisdiction. Check with your local authority.',\n",
       "    'type': 'Permit Requirements',\n",
       "    'question': 'Can I install PV on a historic building?'},\n",
       "   {'text': 'Permit requirements vary by jurisdiction. Check with your local authority.',\n",
       "    'type': 'Permit Requirements',\n",
       "    'question': 'Are there state-specific PV permit requirements?'},\n",
       "   {'text': 'Permit requirements vary by jurisdiction. Check with your local authority.',\n",
       "    'type': 'Permit Requirements',\n",
       "    'question': 'Can I install second-hand solar panels with a permit?'},\n",
       "   {'text': 'Permit requirements vary by jurisdiction. Check with your local authority.',\n",
       "    'type': 'Permit Requirements',\n",
       "    'question': 'Does a DIY solar kit require a permit?'},\n",
       "   {'text': 'Permit requirements vary by jurisdiction. Check with your local authority.',\n",
       "    'type': 'Permit Requirements',\n",
       "    'question': 'What documents are needed to apply for a PV permit?'},\n",
       "   {'text': 'Permit requirements vary by jurisdiction. Check with your local authority.',\n",
       "    'type': 'Permit Requirements',\n",
       "    'question': 'Can I apply for a PV permit online?'},\n",
       "   {'text': 'Permit requirements vary by jurisdiction. Check with your local authority.',\n",
       "    'type': 'Permit Requirements',\n",
       "    'question': 'Do I need a structural engineer’s approval for PV installation?'},\n",
       "   {'text': 'Permit requirements vary by jurisdiction. Check with your local authority.',\n",
       "    'type': 'Permit Requirements',\n",
       "    'question': 'Does installing PV increase my property taxes?'},\n",
       "   {'text': 'Permit requirements vary by jurisdiction. Check with your local authority.',\n",
       "    'type': 'Permit Requirements',\n",
       "    'question': 'Do I need a separate permit for a solar battery backup?'},\n",
       "   {'text': 'Permit requirements vary by jurisdiction. Check with your local authority.',\n",
       "    'type': 'Permit Requirements',\n",
       "    'question': 'If I expand my solar system, do I need a new permit?'},\n",
       "   {'text': 'Permit requirements vary by jurisdiction. Check with your local authority.',\n",
       "    'type': 'Permit Requirements',\n",
       "    'question': 'How much does a solar installation permit cost?'},\n",
       "   {'text': 'Permit requirements vary by jurisdiction. Check with your local authority.',\n",
       "    'type': 'Permit Requirements',\n",
       "    'question': 'Do I need neighbor approval to install PV?'},\n",
       "   {'text': 'Permit requirements vary by jurisdiction. Check with your local authority.',\n",
       "    'type': 'Permit Requirements',\n",
       "    'question': 'What zoning laws affect PV permits?'},\n",
       "   {'text': 'Permit requirements vary by jurisdiction. Check with your local authority.',\n",
       "    'type': 'Permit Requirements',\n",
       "    'question': 'Does my PV permit expire if I don’t install it immediately?'},\n",
       "   {'text': 'Permit requirements vary by jurisdiction. Check with your local authority.',\n",
       "    'type': 'Permit Requirements',\n",
       "    'question': 'Can I transfer my PV permit if I sell my house?'},\n",
       "   {'text': 'Permit requirements vary by jurisdiction. Check with your local authority.',\n",
       "    'type': 'Permit Requirements',\n",
       "    'question': 'What happens if my PV permit is denied?'},\n",
       "   {'text': 'Permit requirements vary by jurisdiction. Check with your local authority.',\n",
       "    'type': 'Permit Requirements',\n",
       "    'question': 'Are there federal guidelines for PV installation permits?'},\n",
       "   {'text': 'Permit requirements vary by jurisdiction. Check with your local authority.',\n",
       "    'type': 'Permit Requirements',\n",
       "    'question': 'If I get an off-grid solar system, do I still need a permit?'},\n",
       "   {'text': 'Permit requirements vary by jurisdiction. Check with your local authority.',\n",
       "    'type': 'Permit Requirements',\n",
       "    'question': 'Can I install PV panels in a shared building?'},\n",
       "   {'text': 'Permit requirements vary by jurisdiction. Check with your local authority.',\n",
       "    'type': 'Permit Requirements',\n",
       "    'question': 'Do I need permission from my utility company to install PV?'},\n",
       "   {'text': 'Permit requirements vary by jurisdiction. Check with your local authority.',\n",
       "    'type': 'Permit Requirements',\n",
       "    'question': 'Do PV permits cover both installation and grid connection?'},\n",
       "   {'text': 'Permit requirements vary by jurisdiction. Check with your local authority.',\n",
       "    'type': 'Permit Requirements',\n",
       "    'question': 'Can I install PV without a licensed electrician?'},\n",
       "   {'text': 'Permit requirements vary by jurisdiction. Check with your local authority.',\n",
       "    'type': 'Permit Requirements',\n",
       "    'question': 'What environmental regulations apply to PV permits?'},\n",
       "   {'text': 'Permit requirements vary by jurisdiction. Check with your local authority.',\n",
       "    'type': 'Permit Requirements',\n",
       "    'question': 'Does my city require a specific type of PV mounting?'},\n",
       "   {'text': 'Permit requirements vary by jurisdiction. Check with your local authority.',\n",
       "    'type': 'Permit Requirements',\n",
       "    'question': 'Can I add solar panels to a mobile home with a permit?'},\n",
       "   {'text': 'Permit requirements vary by jurisdiction. Check with your local authority.',\n",
       "    'type': 'Permit Requirements',\n",
       "    'question': 'Are solar panel permits required for agricultural properties?'},\n",
       "   {'text': 'Permit requirements vary by jurisdiction. Check with your local authority.',\n",
       "    'type': 'Permit Requirements',\n",
       "    'question': 'If I install solar carports, do I need a special permit?'},\n",
       "   {'text': 'Permit requirements vary by jurisdiction. Check with your local authority.',\n",
       "    'type': 'Permit Requirements',\n",
       "    'question': 'How does net metering impact my PV permit?'}]},\n",
       " {'permit_type': 'heat-pump-installation',\n",
       "  'documents': [{'text': 'Yes, a mechanical or HVAC permit is usually required to ensure compliance with local codes.',\n",
       "    'type': 'Permit Requirements',\n",
       "    'question': 'Do I need a permit to install a heat pump?'},\n",
       "   {'text': 'In most cases, replacing an old unit requires a permit, especially if electrical or ductwork is involved.',\n",
       "    'type': 'Permit Requirements',\n",
       "    'question': 'Is a permit required to replace an old heat pump?'},\n",
       "   {'text': 'You may need an HVAC permit, and in some cases, an electrical permit for wiring.',\n",
       "    'type': 'Permit Requirements',\n",
       "    'question': 'Which permit should I apply for to install a heat pump?'},\n",
       "   {'text': 'Some regions allow DIY installations, but professional installation is recommended for warranty and compliance.',\n",
       "    'type': 'Permit Requirements',\n",
       "    'question': 'Can I install a heat pump without an HVAC technician?'},\n",
       "   {'text': 'Yes, ground-source systems often require additional environmental and drilling permits.',\n",
       "    'type': 'Permit Requirements',\n",
       "    'question': 'Are there different permits for air-source and ground-source heat pumps?'},\n",
       "   {'text': 'Costs vary by location but typically range from $50 to $300.',\n",
       "    'type': 'Permit Requirements',\n",
       "    'question': 'What is the cost of a heat pump permit?'},\n",
       "   {'text': 'Yes, if the installation involves new wiring or an upgraded circuit breaker.',\n",
       "    'type': 'Permit Requirements',\n",
       "    'question': 'Do I need an electrical permit for a heat pump?'},\n",
       "   {'text': 'Zoning laws and noise regulations may dictate placement.',\n",
       "    'type': 'Permit Requirements',\n",
       "    'question': 'Are there restrictions on where I can install a heat pump?'},\n",
       "   {'text': 'In some cases, HOA approval is required in addition to local permits.',\n",
       "    'type': 'Permit Requirements',\n",
       "    'question': 'Does my HOA need to approve my heat pump permit?'},\n",
       "   {'text': 'Yes, any significant upgrade typically requires a new permit.',\n",
       "    'type': 'Permit Requirements',\n",
       "    'question': 'If I upgrade my heat pump, do I need a new permit?'},\n",
       "   {'text': 'Permit requirements vary by jurisdiction. Check with your local authority.',\n",
       "    'type': 'Permit Requirements',\n",
       "    'question': 'Does a heat pump permit include ductwork installation?'},\n",
       "   {'text': 'Permit requirements vary by jurisdiction. Check with your local authority.',\n",
       "    'type': 'Permit Requirements',\n",
       "    'question': 'Do I need an inspection after installing a heat pump?'},\n",
       "   {'text': 'Permit requirements vary by jurisdiction. Check with your local authority.',\n",
       "    'type': 'Permit Requirements',\n",
       "    'question': 'If I install a heat pump in an apartment, do I need a permit?'},\n",
       "   {'text': 'Permit requirements vary by jurisdiction. Check with your local authority.',\n",
       "    'type': 'Permit Requirements',\n",
       "    'question': 'What happens if I install a heat pump without a permit?'},\n",
       "   {'text': 'Permit requirements vary by jurisdiction. Check with your local authority.',\n",
       "    'type': 'Permit Requirements',\n",
       "    'question': 'Are heat pump permits handled by local or state authorities?'},\n",
       "   {'text': 'Permit requirements vary by jurisdiction. Check with your local authority.',\n",
       "    'type': 'Permit Requirements',\n",
       "    'question': 'Do I need an environmental review for a ground-source heat pump?'},\n",
       "   {'text': 'Permit requirements vary by jurisdiction. Check with your local authority.',\n",
       "    'type': 'Permit Requirements',\n",
       "    'question': 'Can I get an expedited permit for heat pump installation?'},\n",
       "   {'text': 'Permit requirements vary by jurisdiction. Check with your local authority.',\n",
       "    'type': 'Permit Requirements',\n",
       "    'question': 'What are the noise regulations for heat pump permits?'},\n",
       "   {'text': 'Permit requirements vary by jurisdiction. Check with your local authority.',\n",
       "    'type': 'Permit Requirements',\n",
       "    'question': 'Do I need separate permits for indoor and outdoor heat pump units?'},\n",
       "   {'text': 'Permit requirements vary by jurisdiction. Check with your local authority.',\n",
       "    'type': 'Permit Requirements',\n",
       "    'question': 'How does my home’s energy rating affect my heat pump permit?'}]},\n",
       " {'permit_type': 'battery-powerwall-installation',\n",
       "  'documents': [{'text': 'Yes, you need an electrical permit to install a Powerwall.',\n",
       "    'type': 'Permit Requirements',\n",
       "    'question': 'Do I need a permit to install a Powerwall?'},\n",
       "   {'text': 'An electrical permit is required, and some areas may require a fire safety review.',\n",
       "    'type': 'Permit Requirements',\n",
       "    'question': 'Which permit is required for a battery storage system?'},\n",
       "   {'text': 'No, unauthorized installations may lead to fines and safety risks.',\n",
       "    'type': 'Permit Requirements',\n",
       "    'question': 'Can I install a Powerwall without a permit?'},\n",
       "   {'text': 'Yes, electrical modifications must comply with local codes.',\n",
       "    'type': 'Permit Requirements',\n",
       "    'question': 'Is an electrical permit required for a battery backup system?'},\n",
       "   {'text': 'Yes, if you plan to connect it to the grid.',\n",
       "    'type': 'Permit Requirements',\n",
       "    'question': 'Do I need permission from my utility company to install a Powerwall?'},\n",
       "   {'text': 'Yes, some jurisdictions have fire safety and ventilation requirements.',\n",
       "    'type': 'Permit Requirements',\n",
       "    'question': 'Are there fire safety regulations for battery storage permits?'},\n",
       "   {'text': 'Approval can take a few days to several weeks depending on location.',\n",
       "    'type': 'Permit Requirements',\n",
       "    'question': 'How long does it take to get a Powerwall permit?'},\n",
       "   {'text': \"It's recommended to notify your insurance provider about the installation.\",\n",
       "    'type': 'Permit Requirements',\n",
       "    'question': 'Do I need to update my home insurance for a Powerwall permit?'},\n",
       "   {'text': 'Electrical and fire safety inspections may be required.',\n",
       "    'type': 'Permit Requirements',\n",
       "    'question': 'What inspections are required for a battery storage permit?'},\n",
       "   {'text': 'Usually, a single permit covers the entire system, but requirements vary.',\n",
       "    'type': 'Permit Requirements',\n",
       "    'question': 'If I install multiple Powerwalls, do I need multiple permits?'},\n",
       "   {'text': 'Permit requirements vary by jurisdiction. Check with your local authority.',\n",
       "    'type': 'Permit Requirements',\n",
       "    'question': 'Does my city restrict Powerwall installations?'},\n",
       "   {'text': 'Permit requirements vary by jurisdiction. Check with your local authority.',\n",
       "    'type': 'Permit Requirements',\n",
       "    'question': 'Can I install a Powerwall in a basement with a permit?'},\n",
       "   {'text': 'Permit requirements vary by jurisdiction. Check with your local authority.',\n",
       "    'type': 'Permit Requirements',\n",
       "    'question': 'Do I need a structural permit for a wall-mounted Powerwall?'},\n",
       "   {'text': 'Permit requirements vary by jurisdiction. Check with your local authority.',\n",
       "    'type': 'Permit Requirements',\n",
       "    'question': 'What are the zoning laws for battery storage permits?'},\n",
       "   {'text': 'Permit requirements vary by jurisdiction. Check with your local authority.',\n",
       "    'type': 'Permit Requirements',\n",
       "    'question': 'Can I install a Powerwall in a rental property?'},\n",
       "   {'text': 'Permit requirements vary by jurisdiction. Check with your local authority.',\n",
       "    'type': 'Permit Requirements',\n",
       "    'question': 'Is a fire department inspection required for battery permits?'},\n",
       "   {'text': 'Permit requirements vary by jurisdiction. Check with your local authority.',\n",
       "    'type': 'Permit Requirements',\n",
       "    'question': 'If I expand my Powerwall system, do I need a new permit?'},\n",
       "   {'text': 'Permit requirements vary by jurisdiction. Check with your local authority.',\n",
       "    'type': 'Permit Requirements',\n",
       "    'question': 'Can I connect a Powerwall to an off-grid solar system with a permit?'},\n",
       "   {'text': 'Permit requirements vary by jurisdiction. Check with your local authority.',\n",
       "    'type': 'Permit Requirements',\n",
       "    'question': 'Does my Powerwall permit include integration with solar panels?'},\n",
       "   {'text': 'Permit requirements vary by jurisdiction. Check with your local authority.',\n",
       "    'type': 'Permit Requirements',\n",
       "    'question': 'What happens if I install a Powerwall without a permit?'}]}]"
      ]
     },
     "execution_count": 8,
     "metadata": {},
     "output_type": "execute_result"
    }
   ],
   "source": [
    "docs_raw"
   ]
  },
  {
   "cell_type": "code",
   "execution_count": 14,
   "id": "c361dd0c-e256-473b-9748-58dcdccc3302",
   "metadata": {},
   "outputs": [],
   "source": [
    "documents = []\n",
    "\n",
    "for course_dict in docs_raw:\n",
    "    for doc in course_dict['documents']:\n",
    "        doc['course'] = course_dict['course']\n",
    "        documents.append(doc)"
   ]
  },
  {
   "cell_type": "code",
   "execution_count": 10,
   "id": "86f6fc34-bcc2-4e82-9fef-acf4ff2d36b2",
   "metadata": {},
   "outputs": [],
   "source": [
    "documents = []\n",
    "\n",
    "for item in docs_raw:\n",
    "    for doc in item['documents']:\n",
    "        doc[PERMIT_TYPE] = item[PERMIT_TYPE]\n",
    "        documents.append(doc)"
   ]
  },
  {
   "cell_type": "code",
   "execution_count": 11,
   "id": "3afb5749-d296-4bd9-aa6b-ae3a880cc9f8",
   "metadata": {},
   "outputs": [
    {
     "data": {
      "text/plain": [
       "{'text': 'Yes, most jurisdictions require a permit to install PV systems to ensure safety and compliance.',\n",
       " 'type': 'Permit Requirements',\n",
       " 'question': 'Do I need a permit to install PV?',\n",
       " 'permit_type': 'solar-pv-installation'}"
      ]
     },
     "execution_count": 11,
     "metadata": {},
     "output_type": "execute_result"
    }
   ],
   "source": [
    "documents[0]"
   ]
  },
  {
   "cell_type": "code",
   "execution_count": 14,
   "id": "809535d9-0713-4023-8b88-b5643120cbeb",
   "metadata": {},
   "outputs": [],
   "source": [
    "query = 'Can I install PV without a permit?'"
   ]
  },
  {
   "cell_type": "code",
   "execution_count": 13,
   "id": "00bb41b2-2d52-4c8a-8fdf-f66b112bb983",
   "metadata": {},
   "outputs": [],
   "source": [
    "query_pv = \"How long does it take to get a permit for PV\""
   ]
  },
  {
   "cell_type": "code",
   "execution_count": 15,
   "id": "5ef9de9f-29a1-4f54-a498-78e2e2496168",
   "metadata": {},
   "outputs": [],
   "source": [
    "def elastic_search(query):\n",
    "    search_query = {\n",
    "        \"size\": 5,\n",
    "        \"query\": {\n",
    "            \"bool\": {\n",
    "                \"must\": {\n",
    "                    \"multi_match\": {\n",
    "                        \"query\": query,\n",
    "                        \"fields\": [\"question^3\", \"text\", \"section\"],\n",
    "                        \"type\": \"best_fields\"\n",
    "                    }\n",
    "                },\n",
    "                \"filter\": {\n",
    "                    \"term\": {\n",
    "                        \"permit_type\": PERMIT_TYPE\n",
    "                    }\n",
    "                }\n",
    "            }\n",
    "        }\n",
    "    }\n",
    "    response = es_client.search(index=INDEX_NAME, body=search_query)\n",
    "\n",
    "    results_docs = []\n",
    "\n",
    "    for hit in response['hits']['hits']:\n",
    "        results_docs.append(hit['_source'])\n",
    "    return results_docs"
   ]
  },
  {
   "cell_type": "code",
   "execution_count": 16,
   "id": "08552a94-a97d-473f-af39-39189d98ad78",
   "metadata": {},
   "outputs": [
    {
     "ename": "NotFoundError",
     "evalue": "NotFoundError(404, 'index_not_found_exception', 'no such index [permit-questions]', permit-questions, index_or_alias)",
     "output_type": "error",
     "traceback": [
      "\u001b[0;31m---------------------------------------------------------------------------\u001b[0m",
      "\u001b[0;31mNotFoundError\u001b[0m                             Traceback (most recent call last)",
      "Cell \u001b[0;32mIn[16], line 1\u001b[0m\n\u001b[0;32m----> 1\u001b[0m \u001b[43melastic_search\u001b[49m\u001b[43m(\u001b[49m\u001b[43mquery\u001b[49m\u001b[43m)\u001b[49m\n",
      "Cell \u001b[0;32mIn[15], line 21\u001b[0m, in \u001b[0;36melastic_search\u001b[0;34m(query)\u001b[0m\n\u001b[1;32m      1\u001b[0m \u001b[38;5;28;01mdef\u001b[39;00m\u001b[38;5;250m \u001b[39m\u001b[38;5;21melastic_search\u001b[39m(query):\n\u001b[1;32m      2\u001b[0m     search_query \u001b[38;5;241m=\u001b[39m {\n\u001b[1;32m      3\u001b[0m         \u001b[38;5;124m\"\u001b[39m\u001b[38;5;124msize\u001b[39m\u001b[38;5;124m\"\u001b[39m: \u001b[38;5;241m5\u001b[39m,\n\u001b[1;32m      4\u001b[0m         \u001b[38;5;124m\"\u001b[39m\u001b[38;5;124mquery\u001b[39m\u001b[38;5;124m\"\u001b[39m: {\n\u001b[0;32m   (...)\u001b[0m\n\u001b[1;32m     19\u001b[0m         }\n\u001b[1;32m     20\u001b[0m     }\n\u001b[0;32m---> 21\u001b[0m     response \u001b[38;5;241m=\u001b[39m \u001b[43mes_client\u001b[49m\u001b[38;5;241;43m.\u001b[39;49m\u001b[43msearch\u001b[49m\u001b[43m(\u001b[49m\u001b[43mindex\u001b[49m\u001b[38;5;241;43m=\u001b[39;49m\u001b[43mINDEX_NAME\u001b[49m\u001b[43m,\u001b[49m\u001b[43m \u001b[49m\u001b[43mbody\u001b[49m\u001b[38;5;241;43m=\u001b[39;49m\u001b[43msearch_query\u001b[49m\u001b[43m)\u001b[49m\n\u001b[1;32m     23\u001b[0m     results_docs \u001b[38;5;241m=\u001b[39m []\n\u001b[1;32m     25\u001b[0m     \u001b[38;5;28;01mfor\u001b[39;00m hit \u001b[38;5;129;01min\u001b[39;00m response[\u001b[38;5;124m'\u001b[39m\u001b[38;5;124mhits\u001b[39m\u001b[38;5;124m'\u001b[39m][\u001b[38;5;124m'\u001b[39m\u001b[38;5;124mhits\u001b[39m\u001b[38;5;124m'\u001b[39m]:\n",
      "File \u001b[0;32m/opt/conda/envs/venv312-test-llm/lib/python3.13/site-packages/elasticsearch/_sync/client/utils.py:455\u001b[0m, in \u001b[0;36m_rewrite_parameters.<locals>.wrapper.<locals>.wrapped\u001b[0;34m(*args, **kwargs)\u001b[0m\n\u001b[1;32m    452\u001b[0m         \u001b[38;5;28;01mexcept\u001b[39;00m \u001b[38;5;167;01mKeyError\u001b[39;00m:\n\u001b[1;32m    453\u001b[0m             \u001b[38;5;28;01mpass\u001b[39;00m\n\u001b[0;32m--> 455\u001b[0m \u001b[38;5;28;01mreturn\u001b[39;00m \u001b[43mapi\u001b[49m\u001b[43m(\u001b[49m\u001b[38;5;241;43m*\u001b[39;49m\u001b[43margs\u001b[49m\u001b[43m,\u001b[49m\u001b[43m \u001b[49m\u001b[38;5;241;43m*\u001b[39;49m\u001b[38;5;241;43m*\u001b[39;49m\u001b[43mkwargs\u001b[49m\u001b[43m)\u001b[49m\n",
      "File \u001b[0;32m/opt/conda/envs/venv312-test-llm/lib/python3.13/site-packages/elasticsearch/_sync/client/__init__.py:4357\u001b[0m, in \u001b[0;36mElasticsearch.search\u001b[0;34m(self, index, aggregations, aggs, allow_no_indices, allow_partial_search_results, analyze_wildcard, analyzer, batched_reduce_size, ccs_minimize_roundtrips, collapse, default_operator, df, docvalue_fields, error_trace, expand_wildcards, explain, ext, fields, filter_path, force_synthetic_source, from_, highlight, human, ignore_throttled, ignore_unavailable, include_named_queries_score, indices_boost, knn, lenient, max_concurrent_shard_requests, min_compatible_shard_node, min_score, pit, post_filter, pre_filter_shard_size, preference, pretty, profile, q, query, rank, request_cache, rescore, rest_total_hits_as_int, retriever, routing, runtime_mappings, script_fields, scroll, search_after, search_type, seq_no_primary_term, size, slice, sort, source, source_excludes, source_includes, stats, stored_fields, suggest, suggest_field, suggest_mode, suggest_size, suggest_text, terminate_after, timeout, track_scores, track_total_hits, typed_keys, version, body)\u001b[0m\n\u001b[1;32m   4355\u001b[0m \u001b[38;5;28;01mif\u001b[39;00m __body \u001b[38;5;129;01mis\u001b[39;00m \u001b[38;5;129;01mnot\u001b[39;00m \u001b[38;5;28;01mNone\u001b[39;00m:\n\u001b[1;32m   4356\u001b[0m     __headers[\u001b[38;5;124m\"\u001b[39m\u001b[38;5;124mcontent-type\u001b[39m\u001b[38;5;124m\"\u001b[39m] \u001b[38;5;241m=\u001b[39m \u001b[38;5;124m\"\u001b[39m\u001b[38;5;124mapplication/json\u001b[39m\u001b[38;5;124m\"\u001b[39m\n\u001b[0;32m-> 4357\u001b[0m \u001b[38;5;28;01mreturn\u001b[39;00m \u001b[38;5;28;43mself\u001b[39;49m\u001b[38;5;241;43m.\u001b[39;49m\u001b[43mperform_request\u001b[49m\u001b[43m(\u001b[49m\u001b[43m  \u001b[49m\u001b[38;5;66;43;03m# type: ignore[return-value]\u001b[39;49;00m\n\u001b[1;32m   4358\u001b[0m \u001b[43m    \u001b[49m\u001b[38;5;124;43m\"\u001b[39;49m\u001b[38;5;124;43mPOST\u001b[39;49m\u001b[38;5;124;43m\"\u001b[39;49m\u001b[43m,\u001b[49m\n\u001b[1;32m   4359\u001b[0m \u001b[43m    \u001b[49m\u001b[43m__path\u001b[49m\u001b[43m,\u001b[49m\n\u001b[1;32m   4360\u001b[0m \u001b[43m    \u001b[49m\u001b[43mparams\u001b[49m\u001b[38;5;241;43m=\u001b[39;49m\u001b[43m__query\u001b[49m\u001b[43m,\u001b[49m\n\u001b[1;32m   4361\u001b[0m \u001b[43m    \u001b[49m\u001b[43mheaders\u001b[49m\u001b[38;5;241;43m=\u001b[39;49m\u001b[43m__headers\u001b[49m\u001b[43m,\u001b[49m\n\u001b[1;32m   4362\u001b[0m \u001b[43m    \u001b[49m\u001b[43mbody\u001b[49m\u001b[38;5;241;43m=\u001b[39;49m\u001b[43m__body\u001b[49m\u001b[43m,\u001b[49m\n\u001b[1;32m   4363\u001b[0m \u001b[43m    \u001b[49m\u001b[43mendpoint_id\u001b[49m\u001b[38;5;241;43m=\u001b[39;49m\u001b[38;5;124;43m\"\u001b[39;49m\u001b[38;5;124;43msearch\u001b[39;49m\u001b[38;5;124;43m\"\u001b[39;49m\u001b[43m,\u001b[49m\n\u001b[1;32m   4364\u001b[0m \u001b[43m    \u001b[49m\u001b[43mpath_parts\u001b[49m\u001b[38;5;241;43m=\u001b[39;49m\u001b[43m__path_parts\u001b[49m\u001b[43m,\u001b[49m\n\u001b[1;32m   4365\u001b[0m \u001b[43m\u001b[49m\u001b[43m)\u001b[49m\n",
      "File \u001b[0;32m/opt/conda/envs/venv312-test-llm/lib/python3.13/site-packages/elasticsearch/_sync/client/_base.py:271\u001b[0m, in \u001b[0;36mBaseClient.perform_request\u001b[0;34m(self, method, path, params, headers, body, endpoint_id, path_parts)\u001b[0m\n\u001b[1;32m    255\u001b[0m \u001b[38;5;28;01mdef\u001b[39;00m\u001b[38;5;250m \u001b[39m\u001b[38;5;21mperform_request\u001b[39m(\n\u001b[1;32m    256\u001b[0m     \u001b[38;5;28mself\u001b[39m,\n\u001b[1;32m    257\u001b[0m     method: \u001b[38;5;28mstr\u001b[39m,\n\u001b[0;32m   (...)\u001b[0m\n\u001b[1;32m    264\u001b[0m     path_parts: Optional[Mapping[\u001b[38;5;28mstr\u001b[39m, Any]] \u001b[38;5;241m=\u001b[39m \u001b[38;5;28;01mNone\u001b[39;00m,\n\u001b[1;32m    265\u001b[0m ) \u001b[38;5;241m-\u001b[39m\u001b[38;5;241m>\u001b[39m ApiResponse[Any]:\n\u001b[1;32m    266\u001b[0m     \u001b[38;5;28;01mwith\u001b[39;00m \u001b[38;5;28mself\u001b[39m\u001b[38;5;241m.\u001b[39m_otel\u001b[38;5;241m.\u001b[39mspan(\n\u001b[1;32m    267\u001b[0m         method,\n\u001b[1;32m    268\u001b[0m         endpoint_id\u001b[38;5;241m=\u001b[39mendpoint_id,\n\u001b[1;32m    269\u001b[0m         path_parts\u001b[38;5;241m=\u001b[39mpath_parts \u001b[38;5;129;01mor\u001b[39;00m {},\n\u001b[1;32m    270\u001b[0m     ) \u001b[38;5;28;01mas\u001b[39;00m otel_span:\n\u001b[0;32m--> 271\u001b[0m         response \u001b[38;5;241m=\u001b[39m \u001b[38;5;28;43mself\u001b[39;49m\u001b[38;5;241;43m.\u001b[39;49m\u001b[43m_perform_request\u001b[49m\u001b[43m(\u001b[49m\n\u001b[1;32m    272\u001b[0m \u001b[43m            \u001b[49m\u001b[43mmethod\u001b[49m\u001b[43m,\u001b[49m\n\u001b[1;32m    273\u001b[0m \u001b[43m            \u001b[49m\u001b[43mpath\u001b[49m\u001b[43m,\u001b[49m\n\u001b[1;32m    274\u001b[0m \u001b[43m            \u001b[49m\u001b[43mparams\u001b[49m\u001b[38;5;241;43m=\u001b[39;49m\u001b[43mparams\u001b[49m\u001b[43m,\u001b[49m\n\u001b[1;32m    275\u001b[0m \u001b[43m            \u001b[49m\u001b[43mheaders\u001b[49m\u001b[38;5;241;43m=\u001b[39;49m\u001b[43mheaders\u001b[49m\u001b[43m,\u001b[49m\n\u001b[1;32m    276\u001b[0m \u001b[43m            \u001b[49m\u001b[43mbody\u001b[49m\u001b[38;5;241;43m=\u001b[39;49m\u001b[43mbody\u001b[49m\u001b[43m,\u001b[49m\n\u001b[1;32m    277\u001b[0m \u001b[43m            \u001b[49m\u001b[43motel_span\u001b[49m\u001b[38;5;241;43m=\u001b[39;49m\u001b[43motel_span\u001b[49m\u001b[43m,\u001b[49m\n\u001b[1;32m    278\u001b[0m \u001b[43m        \u001b[49m\u001b[43m)\u001b[49m\n\u001b[1;32m    279\u001b[0m         otel_span\u001b[38;5;241m.\u001b[39mset_elastic_cloud_metadata(response\u001b[38;5;241m.\u001b[39mmeta\u001b[38;5;241m.\u001b[39mheaders)\n\u001b[1;32m    280\u001b[0m         \u001b[38;5;28;01mreturn\u001b[39;00m response\n",
      "File \u001b[0;32m/opt/conda/envs/venv312-test-llm/lib/python3.13/site-packages/elasticsearch/_sync/client/_base.py:352\u001b[0m, in \u001b[0;36mBaseClient._perform_request\u001b[0;34m(self, method, path, params, headers, body, otel_span)\u001b[0m\n\u001b[1;32m    349\u001b[0m         \u001b[38;5;28;01mexcept\u001b[39;00m (\u001b[38;5;167;01mValueError\u001b[39;00m, \u001b[38;5;167;01mKeyError\u001b[39;00m, \u001b[38;5;167;01mTypeError\u001b[39;00m):\n\u001b[1;32m    350\u001b[0m             \u001b[38;5;28;01mpass\u001b[39;00m\n\u001b[0;32m--> 352\u001b[0m     \u001b[38;5;28;01mraise\u001b[39;00m HTTP_EXCEPTIONS\u001b[38;5;241m.\u001b[39mget(meta\u001b[38;5;241m.\u001b[39mstatus, ApiError)(\n\u001b[1;32m    353\u001b[0m         message\u001b[38;5;241m=\u001b[39mmessage, meta\u001b[38;5;241m=\u001b[39mmeta, body\u001b[38;5;241m=\u001b[39mresp_body\n\u001b[1;32m    354\u001b[0m     )\n\u001b[1;32m    356\u001b[0m \u001b[38;5;66;03m# 'X-Elastic-Product: Elasticsearch' should be on every 2XX response.\u001b[39;00m\n\u001b[1;32m    357\u001b[0m \u001b[38;5;28;01mif\u001b[39;00m \u001b[38;5;129;01mnot\u001b[39;00m \u001b[38;5;28mself\u001b[39m\u001b[38;5;241m.\u001b[39m_verified_elasticsearch:\n\u001b[1;32m    358\u001b[0m     \u001b[38;5;66;03m# If the header is set we mark the server as verified.\u001b[39;00m\n",
      "\u001b[0;31mNotFoundError\u001b[0m: NotFoundError(404, 'index_not_found_exception', 'no such index [permit-questions]', permit-questions, index_or_alias)"
     ]
    }
   ],
   "source": [
    "elastic_search(query)"
   ]
  },
  {
   "cell_type": "code",
   "execution_count": 13,
   "id": "32d2cd94-8b9f-416d-b54e-b2539380393b",
   "metadata": {},
   "outputs": [],
   "source": [
    "def rag(query):\n",
    "    search_results = elastic_search(query)\n",
    "    promt=building_promt(query, search_results)\n",
    "    answer=llm(prompt)\n",
    "    return answer"
   ]
  },
  {
   "cell_type": "code",
   "execution_count": 17,
   "id": "03fc42ae-fec3-4daa-8d04-1733177d0fcc",
   "metadata": {},
   "outputs": [
    {
     "ename": "NameError",
     "evalue": "name 'building_promt' is not defined",
     "output_type": "error",
     "traceback": [
      "\u001b[0;31m---------------------------------------------------------------------------\u001b[0m",
      "\u001b[0;31mNameError\u001b[0m                                 Traceback (most recent call last)",
      "Cell \u001b[0;32mIn[17], line 1\u001b[0m\n\u001b[0;32m----> 1\u001b[0m \u001b[43mrag\u001b[49m\u001b[43m(\u001b[49m\u001b[43mquery\u001b[49m\u001b[43m)\u001b[49m\n",
      "Cell \u001b[0;32mIn[16], line 3\u001b[0m, in \u001b[0;36mrag\u001b[0;34m(query)\u001b[0m\n\u001b[1;32m      1\u001b[0m \u001b[38;5;28;01mdef\u001b[39;00m\u001b[38;5;250m \u001b[39m\u001b[38;5;21mrag\u001b[39m(query):\n\u001b[1;32m      2\u001b[0m     search_results\u001b[38;5;241m=\u001b[39melastic_search(query)\n\u001b[0;32m----> 3\u001b[0m     promt\u001b[38;5;241m=\u001b[39m\u001b[43mbuilding_promt\u001b[49m(query, search_results)\n\u001b[1;32m      4\u001b[0m     answer\u001b[38;5;241m=\u001b[39mllm(prompt)\n\u001b[1;32m      5\u001b[0m     \u001b[38;5;28;01mreturn\u001b[39;00m answer\n",
      "\u001b[0;31mNameError\u001b[0m: name 'building_promt' is not defined"
     ]
    }
   ],
   "source": [
    "rag(query)"
   ]
  },
  {
   "cell_type": "code",
   "execution_count": null,
   "id": "f2f657ba-5a6c-439a-a125-b4a37e3e7aee",
   "metadata": {},
   "outputs": [],
   "source": []
  }
 ],
 "metadata": {
  "kernelspec": {
   "display_name": "Python 3 (ipykernel)",
   "language": "python",
   "name": "python3"
  },
  "language_info": {
   "codemirror_mode": {
    "name": "ipython",
    "version": 3
   },
   "file_extension": ".py",
   "mimetype": "text/x-python",
   "name": "python",
   "nbconvert_exporter": "python",
   "pygments_lexer": "ipython3",
   "version": "3.13.1"
  }
 },
 "nbformat": 4,
 "nbformat_minor": 5
}
