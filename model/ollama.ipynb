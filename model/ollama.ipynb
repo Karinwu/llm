{
 "cells": [
  {
   "cell_type": "code",
   "execution_count": 9,
   "id": "767656a4-88a8-43eb-a4a4-72ac837aa20c",
   "metadata": {},
   "outputs": [],
   "source": [
    "from elasticsearch import Elasticsearch\n",
    "import json\n",
    "from openai import OpenAI\n",
    "from tqdm.auto import tqdm"
   ]
  },
  {
   "cell_type": "code",
   "execution_count": 2,
   "id": "0732c4df-918f-4f9f-bbf6-b56db183371b",
   "metadata": {},
   "outputs": [],
   "source": [
    "INDEX_NAME = \"index_new\"\n",
    "PERMIT_TYPE = \"permit_type\"\n",
    "DOCUMENTS = \"documents\""
   ]
  },
  {
   "cell_type": "code",
   "execution_count": 10,
   "id": "73a509cc-1da4-4dc7-ac11-7a0de5622f6b",
   "metadata": {},
   "outputs": [],
   "source": [
    "client = OpenAI(\n",
    "    base_url='http://localhost:11434/v1/',\n",
    "    api_key='ollama',\n",
    ")"
   ]
  },
  {
   "cell_type": "code",
   "execution_count": 11,
   "id": "40846423-5d79-4e1b-8cdf-c19e07f5225a",
   "metadata": {},
   "outputs": [
    {
     "data": {
      "text/plain": [
       "ObjectApiResponse({'name': '54b6458921c6', 'cluster_name': 'docker-cluster', 'cluster_uuid': '1IQgF8oCR0i8F8uSrpF8Kg', 'version': {'number': '8.4.3', 'build_flavor': 'default', 'build_type': 'docker', 'build_hash': '42f05b9372a9a4a470db3b52817899b99a76ee73', 'build_date': '2022-10-04T07:17:24.662462378Z', 'build_snapshot': False, 'lucene_version': '9.3.0', 'minimum_wire_compatibility_version': '7.17.0', 'minimum_index_compatibility_version': '7.0.0'}, 'tagline': 'You Know, for Search'})"
      ]
     },
     "execution_count": 11,
     "metadata": {},
     "output_type": "execute_result"
    }
   ],
   "source": [
    "es_model = Elasticsearch(\"http://localhost:9200\")\n",
    "es_model.info()"
   ]
  },
  {
   "cell_type": "code",
   "execution_count": 12,
   "id": "e7f742b3-dde6-45b1-9056-3de85b95facc",
   "metadata": {},
   "outputs": [],
   "source": [
    "def build_prompt(query, search_results):\n",
    "    prompt_template = \"\"\"\n",
    "You're a permit coordinator who assists application with permitss related to Distributed Energy Resources installation. Answer the QUESTION based on the CONTEXT from the database.\n",
    "Use only the facts from the CONTEXT when answering the QUESTION.\n",
    "\n",
    "QUESTION: {question}\n",
    "\n",
    "CONTEXT: \n",
    "{context}\n",
    "\"\"\".strip()\n",
    "\n",
    "    context = \"\"\n",
    "    \n",
    "    for doc in search_results:\n",
    "        context = context + f\"section: {doc['section']}\\nquestion: {doc['question']}\\nanswer: {doc['text']}\\n\\n\"\n",
    "    \n",
    "    prompt = prompt_template.format(question=query, context=context).strip()\n",
    "    return prompt"
   ]
  },
  {
   "cell_type": "code",
   "execution_count": 13,
   "id": "b67c04c5-5a52-4e4c-b06d-1ef7dab6b9e4",
   "metadata": {},
   "outputs": [],
   "source": [
    "def llm(prompt):\n",
    "    response = client.chat.completions.create(\n",
    "        model='phi3',\n",
    "        messages=[{\"role\": \"user\", \"content\": prompt}]\n",
    "    )\n",
    "    \n",
    "    return response.choices[0].message.content"
   ]
  },
  {
   "cell_type": "code",
   "execution_count": 52,
   "id": "8675bfb3-72ff-44be-ad46-7cdbfa7c9023",
   "metadata": {},
   "outputs": [
    {
     "data": {
      "text/plain": [
       "ObjectApiResponse({'acknowledged': True, 'shards_acknowledged': True, 'index': 'index_new'})"
      ]
     },
     "execution_count": 52,
     "metadata": {},
     "output_type": "execute_result"
    }
   ],
   "source": [
    "index_settings = {\n",
    "\"settings\": {\n",
    "    \"number_of_shards\": 1,\n",
    "    \"number_of_replicas\": 0\n",
    "},\n",
    "\"mappings\": {\n",
    "    \"properties\": {\n",
    "        \"text\": {\"type\": \"text\"},\n",
    "        \"section\": {\"type\": \"text\"},\n",
    "        \"question\": {\"type\": \"text\"},\n",
    "        \"permit_type\": {\"type\": \"keyword\"} \n",
    "    }\n",
    "}\n",
    "}\n",
    "index_name = \"index_new\"\n",
    "response = es_model.indices.create(index=index_name, body=index_settings)\n",
    "response"
   ]
  },
  {
   "cell_type": "code",
   "execution_count": 25,
   "id": "5a4cb712-6607-46c6-b747-1e14526350c7",
   "metadata": {},
   "outputs": [],
   "source": [
    "def elastic_search(\n",
    "    query,\n",
    "    index_name=INDEX_NAME,\n",
    "    max_results=1\n",
    "):\n",
    "    search_query = {\n",
    "        \"size\": max_results,\n",
    "        \"query\": {\n",
    "            \"bool\": {\n",
    "                \"must\": {\n",
    "                    \"multi_match\": {\n",
    "                        \"query\": query,\n",
    "                        \"fields\": [\"question^3\", \"text\", \"section\"],\n",
    "                        \"type\": \"best_fields\"\n",
    "                    }\n",
    "                },\n",
    "                \"filter\": {\n",
    "                    \"term\": {\n",
    "                       \"permit_type\": \"solar-pv-installation\"\n",
    "                    }\n",
    "                }\n",
    "            }\n",
    "        }\n",
    "    }\n",
    "    \n",
    "    response = es_model.search(index=index_name, body=search_query)\n",
    "    documents = [hit['_source'] for hit in response['hits']['hits']]\n",
    "    return documents"
   ]
  },
  {
   "cell_type": "code",
   "execution_count": 16,
   "id": "d47c1687-2b95-4334-90c1-bc9759008825",
   "metadata": {},
   "outputs": [],
   "source": [
    "def read_json_data(file_name: str):\n",
    "    \"\"\"\n",
    "    Reads JSON data from a file and flattens the document structure.\n",
    "    Args:\n",
    "        file_name: Name and path to the file.   \n",
    "    \"\"\"\n",
    "    with open(file_name, 'rt') as f_in:\n",
    "        documents_file = json.load(f_in)        \n",
    "    documents = []\n",
    "    for item in documents_file:\n",
    "        permit_type = item[PERMIT_TYPE]\n",
    "\n",
    "        for doc in item[DOCUMENTS]:\n",
    "            doc[PERMIT_TYPE] = permit_type\n",
    "            documents.append(doc)\n",
    "    return documents\n"
   ]
  },
  {
   "cell_type": "code",
   "execution_count": 17,
   "id": "55c99f19-cba6-48a9-acaa-9ced0e984867",
   "metadata": {},
   "outputs": [],
   "source": [
    "def rag(query):\n",
    "    search_results=elastic_search(query)\n",
    "    prompt=build_prompt(query, search_results)    \n",
    "    return llm(prompt)"
   ]
  },
  {
   "cell_type": "code",
   "execution_count": 18,
   "id": "b4942720-b901-4965-abd4-394592d728eb",
   "metadata": {},
   "outputs": [],
   "source": [
    "documents = read_json_data(file_name='../data/data.json')"
   ]
  },
  {
   "cell_type": "code",
   "execution_count": 19,
   "id": "c28b3107-077a-4371-b5a0-02e03c71e4af",
   "metadata": {},
   "outputs": [
    {
     "data": {
      "text/plain": [
       "{'text': 'Yes, most jurisdictions require a permit to install PV systems to ensure safety and compliance.',\n",
       " 'section': 'Permit Requirements',\n",
       " 'question': 'Do I need a permit to install PV?',\n",
       " 'permit_type': 'solar-pv-installation'}"
      ]
     },
     "execution_count": 19,
     "metadata": {},
     "output_type": "execute_result"
    }
   ],
   "source": [
    "documents[0]"
   ]
  },
  {
   "cell_type": "code",
   "execution_count": 20,
   "id": "589dbba7-f626-4ef9-a57b-1402e709efb0",
   "metadata": {},
   "outputs": [
    {
     "data": {
      "application/vnd.jupyter.widget-view+json": {
       "model_id": "bfcdf8da63724c2c9a9db20e1efb63c3",
       "version_major": 2,
       "version_minor": 0
      },
      "text/plain": [
       "  0%|          | 0/79 [00:00<?, ?it/s]"
      ]
     },
     "metadata": {},
     "output_type": "display_data"
    }
   ],
   "source": [
    "for doc in tqdm(documents):\n",
    "    es_model.index(index=index_name, document=doc)"
   ]
  },
  {
   "cell_type": "code",
   "execution_count": 21,
   "id": "2c36d270-8592-4746-99f0-3225e388026e",
   "metadata": {},
   "outputs": [],
   "source": [
    "query='Which permit do I need for PV?'"
   ]
  },
  {
   "cell_type": "code",
   "execution_count": 24,
   "id": "d64cd112-1dff-4b97-b7e6-efaea087b974",
   "metadata": {},
   "outputs": [],
   "source": [
    "prompt=build_prompt(query, search_results)"
   ]
  },
  {
   "cell_type": "code",
   "execution_count": 65,
   "id": "fafd1d01-65b3-401b-95df-364c1243c159",
   "metadata": {},
   "outputs": [
    {
     "data": {
      "text/plain": [
       "\"You're a permit coordinator who assists application with permitss related to Distributed Energy Resources installation. Answer the QUESTION based on the CONTEXT from the database.\\nUse only the facts from the CONTEXT when answering the QUESTION.\\n\\nQUESTION: Which permit do I need for PV?\\n\\nCONTEXT: \\nsection: Permit Requirements\\nquestion: Which permit should I get if I want to install PV?\\nanswer: You typically need an electrical and building permit for PV installations. Check with your local building authority.\\n\\nsection: Permit Requirements\\nquestion: Do I need a structural engineer’s approval for PV installation?\\nanswer: Permit requirements vary by jurisdiction. Check with your local authority.\\n\\nsection: Permit Requirements\\nquestion: Do I need a permit to install PV?\\nanswer: Yes, most jurisdictions require a permit to install PV systems to ensure safety and compliance.\\n\\nsection: Permit Requirements\\nquestion: Do I need an inspection after getting a PV permit?\\nanswer: Yes, most areas require an inspection to verify compliance with safety codes.\\n\\nsection: Permit Requirements\\nquestion: Do I need a separate permit for a solar battery backup?\\nanswer: Permit requirements vary by jurisdiction. Check with your local authority.\""
      ]
     },
     "execution_count": 65,
     "metadata": {},
     "output_type": "execute_result"
    }
   ],
   "source": [
    "prompt"
   ]
  },
  {
   "cell_type": "code",
   "execution_count": 28,
   "id": "b93116c1-8ef5-45aa-9e0e-503186a9c04f",
   "metadata": {},
   "outputs": [
    {
     "name": "stdout",
     "output_type": "stream",
     "text": [
      "You typically need an electrical and building permit for PV installations. Check with your local building authority.\n",
      "\n",
      "\n"
     ]
    }
   ],
   "source": [
    "rag(query)"
   ]
  },
  {
   "cell_type": "code",
   "execution_count": null,
   "id": "0d273ea7-e17c-432f-83ef-da99e57e9aa1",
   "metadata": {},
   "outputs": [],
   "source": []
  }
 ],
 "metadata": {
  "kernelspec": {
   "display_name": "Python 3 (ipykernel)",
   "language": "python",
   "name": "python3"
  },
  "language_info": {
   "codemirror_mode": {
    "name": "ipython",
    "version": 3
   },
   "file_extension": ".py",
   "mimetype": "text/x-python",
   "name": "python",
   "nbconvert_exporter": "python",
   "pygments_lexer": "ipython3",
   "version": "3.12.3"
  }
 },
 "nbformat": 4,
 "nbformat_minor": 5
}
