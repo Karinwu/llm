{
 "cells": [
  {
   "cell_type": "code",
   "execution_count": 1,
   "id": "53d04042-a275-44c1-a625-637861f5151a",
   "metadata": {},
   "outputs": [],
   "source": [
    "import os\n",
    "\n",
    "from elasticsearch import Elasticsearch\n",
    "import json\n",
    "from openai import OpenAI\n",
    "from tqdm.auto import tqdm"
   ]
  },
  {
   "cell_type": "code",
   "execution_count": 2,
   "id": "1dc57ab8-18de-4296-af1f-ae1c74887223",
   "metadata": {},
   "outputs": [],
   "source": [
    "INDEX_NAME = \"es_index\"\n",
    "PERMIT_TYPE = \"permit_type\"\n",
    "DOCUMENTS = \"documents\""
   ]
  },
  {
   "cell_type": "code",
   "execution_count": 3,
   "id": "1dbdb1ff-7893-4272-8031-d76e540af619",
   "metadata": {},
   "outputs": [
    {
     "data": {
      "text/plain": [
       "ObjectApiResponse({'name': 'ff725117390c', 'cluster_name': 'docker-cluster', 'cluster_uuid': 'Y0uUMpCTTwW0Eo0Ijues9w', 'version': {'number': '8.4.3', 'build_flavor': 'default', 'build_type': 'docker', 'build_hash': '42f05b9372a9a4a470db3b52817899b99a76ee73', 'build_date': '2022-10-04T07:17:24.662462378Z', 'build_snapshot': False, 'lucene_version': '9.3.0', 'minimum_wire_compatibility_version': '7.17.0', 'minimum_index_compatibility_version': '7.0.0'}, 'tagline': 'You Know, for Search'})"
      ]
     },
     "execution_count": 3,
     "metadata": {},
     "output_type": "execute_result"
    }
   ],
   "source": [
    "es_model = Elasticsearch(\"http://localhost:9200\")\n",
    "es_model.info()"
   ]
  },
  {
   "cell_type": "code",
   "execution_count": 7,
   "id": "61bf8061-6a7d-41a5-ad9c-c11ff6c6303e",
   "metadata": {},
   "outputs": [
    {
     "data": {
      "text/plain": [
       "ObjectApiResponse({'acknowledged': True, 'shards_acknowledged': True, 'index': 'es_index'})"
      ]
     },
     "execution_count": 7,
     "metadata": {},
     "output_type": "execute_result"
    }
   ],
   "source": [
    "index_settings = {\n",
    "\"settings\": {\n",
    "    \"number_of_shards\": 1,\n",
    "    \"number_of_replicas\": 0\n",
    "},\n",
    "\"mappings\": {\n",
    "    \"properties\": {\n",
    "        \"text\": {\"type\": \"text\"},\n",
    "        \"section\": {\"type\": \"text\"},\n",
    "        \"question\": {\"type\": \"text\"},\n",
    "        \"permit_type\": {\"type\": \"keyword\"} \n",
    "    }\n",
    "}\n",
    "}\n",
    "index_name = INDEX_NAME\n",
    "response = es_model.indices.create(index=index_name, body=index_settings)\n",
    "response"
   ]
  },
  {
   "cell_type": "code",
   "execution_count": 4,
   "id": "e3cf922e-8c34-4d33-8104-35236bf205a9",
   "metadata": {},
   "outputs": [],
   "source": [
    "def read_json_data(file_name: str):\n",
    "    \"\"\"\n",
    "    Reads JSON data from a file and flattens the document structure.\n",
    "    Args:\n",
    "        file_name: Name and path to the file.   \n",
    "    \"\"\"\n",
    "    with open(file_name, 'rt') as f_in:\n",
    "        documents_file = json.load(f_in)        \n",
    "    documents = []\n",
    "    for item in documents_file:\n",
    "        permit_type = item[PERMIT_TYPE]\n",
    "\n",
    "        for doc in item[DOCUMENTS]:\n",
    "            doc[PERMIT_TYPE] = permit_type\n",
    "            documents.append(doc)\n",
    "    return documents\n"
   ]
  },
  {
   "cell_type": "code",
   "execution_count": 5,
   "id": "4debff53-50f1-42b2-ab5a-81c554184feb",
   "metadata": {},
   "outputs": [],
   "source": [
    "def retrieve_documents(\n",
    "    query,\n",
    "    index_name=INDEX_NAME,\n",
    "    max_results=1\n",
    "):\n",
    "    # es = Elasticsearch(\"http://localhost:9200\")\n",
    "    \n",
    "    search_query = {\n",
    "        \"size\": max_results,\n",
    "        \"query\": {\n",
    "            \"bool\": {\n",
    "                \"must\": {\n",
    "                    \"multi_match\": {\n",
    "                        \"query\": query,\n",
    "                        \"fields\": [\"question^3\", \"text\", \"section\"],\n",
    "                        \"type\": \"best_fields\"\n",
    "                    }\n",
    "                },\n",
    "                \"filter\": {\n",
    "                    \"term\": {\n",
    "                       \"permit_type\": \"solar-pv-installation\"\n",
    "                    }\n",
    "                }\n",
    "            }\n",
    "        }\n",
    "    }\n",
    "    \n",
    "    response = es_model.search(index=index_name, body=search_query)\n",
    "    documents = [hit['_source'] for hit in response['hits']['hits']]\n",
    "    return documents"
   ]
  },
  {
   "cell_type": "markdown",
   "id": "f7297ac8-beb3-4989-aeec-d8c30f94cc6d",
   "metadata": {},
   "source": [
    "### Read json data"
   ]
  },
  {
   "cell_type": "code",
   "execution_count": 6,
   "id": "a62b9cfc-cc0e-436a-a7d0-80ba881b8f03",
   "metadata": {},
   "outputs": [],
   "source": [
    "documents = read_json_data(file_name='../data/data.json')"
   ]
  },
  {
   "cell_type": "code",
   "execution_count": 7,
   "id": "8336a991-9dd0-49b2-9f7d-a75b4cc19775",
   "metadata": {},
   "outputs": [
    {
     "data": {
      "text/plain": [
       "{'text': 'Yes, most jurisdictions require a permit to install PV systems to ensure safety and compliance.',\n",
       " 'section': 'Permit Requirements',\n",
       " 'question': 'Do I need a permit to install PV?',\n",
       " 'permit_type': 'solar-pv-installation'}"
      ]
     },
     "execution_count": 7,
     "metadata": {},
     "output_type": "execute_result"
    }
   ],
   "source": [
    "documents[0]"
   ]
  },
  {
   "cell_type": "code",
   "execution_count": 10,
   "id": "7f974cc4-e7bf-4836-8241-291241ff490f",
   "metadata": {},
   "outputs": [
    {
     "data": {
      "application/vnd.jupyter.widget-view+json": {
       "model_id": "c06c20580b644507ba35cb41083a63a9",
       "version_major": 2,
       "version_minor": 0
      },
      "text/plain": [
       "  0%|          | 0/79 [00:00<?, ?it/s]"
      ]
     },
     "metadata": {},
     "output_type": "display_data"
    }
   ],
   "source": [
    "for doc in tqdm(documents):\n",
    "    es_model.index(index=index_name, document=doc)"
   ]
  },
  {
   "cell_type": "markdown",
   "id": "276935b7-9708-484c-be1a-cebc3cc032ef",
   "metadata": {},
   "source": [
    "### Perform a Search"
   ]
  },
  {
   "cell_type": "code",
   "execution_count": 11,
   "id": "2efb514b-05f1-4a4c-8190-5db3128c0a99",
   "metadata": {},
   "outputs": [],
   "source": [
    "query = \"Which permit do I need for PV?\""
   ]
  },
  {
   "cell_type": "code",
   "execution_count": 12,
   "id": "1e38ec48-b4ed-4675-a062-25f4e6e67a6f",
   "metadata": {},
   "outputs": [
    {
     "name": "stdout",
     "output_type": "stream",
     "text": [
      "Section: Permit Requirements\n",
      "Question: Which permit should I get if I want to install PV?\n",
      "Answer: You typically need an electrical and building permit for PV installations. Check with your local building authority.\n",
      "\n",
      "\n"
     ]
    }
   ],
   "source": [
    "response = retrieve_documents(query)\n",
    "\n",
    "for doc in response:\n",
    "    print(f\"Section: {doc['section']}\\nQuestion: {doc['question']}\\nAnswer: {doc['text']}\\n\\n\")"
   ]
  },
  {
   "cell_type": "code",
   "execution_count": null,
   "id": "71abdd56-0a0d-49f5-9e27-cfb7152baeba",
   "metadata": {},
   "outputs": [],
   "source": []
  }
 ],
 "metadata": {
  "kernelspec": {
   "display_name": "Python 3 (ipykernel)",
   "language": "python",
   "name": "python3"
  },
  "language_info": {
   "codemirror_mode": {
    "name": "ipython",
    "version": 3
   },
   "file_extension": ".py",
   "mimetype": "text/x-python",
   "name": "python",
   "nbconvert_exporter": "python",
   "pygments_lexer": "ipython3",
   "version": "3.13.1"
  }
 },
 "nbformat": 4,
 "nbformat_minor": 5
}
